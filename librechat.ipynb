{
 "cells": [
  {
   "cell_type": "markdown",
   "metadata": {},
   "source": [
    "<h1 dir=rtl align=center style=\"line-height:200%;font-family:vazir;color:#0099cc\">\n",
    "<font face=\"vazir\" color=\"#0099cc\">\n",
    "LibreChat\n",
    "</font>\n",
    "</h1>\n",
    "\n",
    "<p dir=rtl style=\"direction: rtl; text-align: justify; line-height:200%; font-family:vazir; font-size:medium\">\n",
    "<font face=\"vazir\" size=3>\n",
    "در این پروژه می‌خواهیم به طراحی یک ربات گفت‌وگو بپردازیم که براساس داده‌هایی که از منابع مختلف همچون فایل‌های <code>PDF</code> / <code>Epub</code>، صفحات ویکی‌پدیا، وب‌سایت‌ها و غیره جمع‌آوری می‌شوند به پرسش‌های کاربران پاسخ می‌دهد. این داده‌ها به فلسفه‌ی لینوکس، نرم‌افزار آزاد و چهره‌های بزرگی که در آن نقش داشته‌اند مربوط هستند و به همین دلیل نام لیبره‌چت (LibreChat) را برای آن انتخاب کرده‌ایم.\n",
    "<br>\n",
    "</font>\n",
    "</p>"
   ]
  },
  {
   "cell_type": "markdown",
   "metadata": {},
   "source": [
    "<h2 dir=rtl align=right style=\"line-height:200%;font-family:vazir;color:#0099cc\">\n",
    "<font face=\"vazir\" color=\"#0099cc\">\n",
    "بارگیری داده‌ها\n",
    "</font>\n",
    "</h2>\n",
    "\n",
    "<p dir=rtl style=\"direction: rtl; text-align: justify; line-height:200%; font-family:vazir; font-size:medium\">\n",
    "<font face=\"vazir\">\n",
    "همان‌طور که اشاره شد در این پروژه قصد داریم از داده‌هایی با انواع متفاوت و از منابع گوناگون استفاده کنیم. بنابراین در ابتدا به‌کمک توابع <code>LangChain</code> متناسب با هر نوع داده نسبت به خوانش ‌آن‌ها اقدام می‌کنیم تا تمام داده‌ها به‌شکل سند (<code>Document</code>) در بیایند \n",
    "</font>\n",
    "</p>"
   ]
  },
  {
   "cell_type": "markdown",
   "metadata": {},
   "source": [
    "<h3 dir=rtl align=right style=\"line-height:200%;font-family:vazir;color:#0099cc\">\n",
    "<font face=\"vazir\" color=\"#0099cc\">\n",
    "فایل <code>PDF</code>\n",
    "</font>\n",
    "</h3>\n",
    "\n",
    "<p dir=rtl style=\"direction: rtl; text-align: justify; line-height:200%; font-family:vazir; font-size:medium\">\n",
    "<font face=\"vazir\">\n",
    "فایل <code>PDF</code> کتابی با نام «فقط برای تفریح - داستان یک انقلاب اتفاقی» نوشته‌ی لینوس توروالدز، خالق لینوکس و دیوید دیاموند با ترجمه‌ای آزاد از <a href=\"https://jadi.net/\" target=\"_blank\">جادی</a> (<code>data</code>) در درسترس است. \n",
    "</font>\n",
    "</p>"
   ]
  },
  {
   "cell_type": "code",
   "execution_count": 42,
   "metadata": {},
   "outputs": [
    {
     "name": "stderr",
     "output_type": "stream",
     "text": [
      "c:\\Users\\Helia\\miniconda3\\envs\\quera\\Lib\\site-packages\\pypdfium2\\_helpers\\textpage.py:80: UserWarning: get_text_range() call with default params will be implicitly redirected to get_text_bounded()\n",
      "  warnings.warn(\"get_text_range() call with default params will be implicitly redirected to get_text_bounded()\")\n"
     ]
    }
   ],
   "source": [
    "from langchain_community.document_loaders import PyPDFium2Loader\n",
    "\n",
    "file_path_pdf = (\".\\data\\justforfun_persian.pdf\")\n",
    "\n",
    "pdfloader = PyPDFium2Loader(file_path_pdf)\n",
    "pdf_docs = pdfloader.load()"
   ]
  },
  {
   "cell_type": "code",
   "execution_count": 43,
   "metadata": {},
   "outputs": [
    {
     "name": "stdout",
     "output_type": "stream",
     "text": [
      "Number of pages (loaded Document objects): 204\n"
     ]
    }
   ],
   "source": [
    "print(\"Number of pages (loaded Document objects):\", len(pdf_docs))"
   ]
  },
  {
   "cell_type": "code",
   "execution_count": 44,
   "metadata": {},
   "outputs": [
    {
     "name": "stdout",
     "output_type": "stream",
     "text": [
      "فقط برای تفریح\n",
      "داستان یͷ انقلابی اتفاقͬ\n",
      "لینوس توروالدز خالق لینوکس و دیوید دیاموند\n",
      "ترجمه جادی\n",
      "حروف چینͬ نسخه لاتک: MXAmin\n",
      "\n"
     ]
    }
   ],
   "source": [
    "# Take a look at a random page of the document \n",
    "print(pdf_docs[0].page_content)"
   ]
  },
  {
   "cell_type": "code",
   "execution_count": 45,
   "metadata": {},
   "outputs": [],
   "source": [
    "# Converting some unknown characters to correct Farsi characters\n",
    "def replace_white_spaces(text):\n",
    "    text = text.replace(chr(876) + ' ', 'ی ')\n",
    "    text = text.replace(chr(876) + chr(13), 'ی ')\n",
    "    text = text.replace(chr(887) , 'ک')\n",
    "    return text\n",
    "\n",
    "for doc in pdf_docs: \n",
    "    doc.page_content = replace_white_spaces(doc.page_content)"
   ]
  },
  {
   "cell_type": "code",
   "execution_count": 46,
   "metadata": {},
   "outputs": [
    {
     "name": "stdout",
     "output_type": "stream",
     "text": [
      "فقط برای تفریح\n",
      "داستان یک انقلابی اتفاقی \n",
      "لینوس توروالدز خالق لینوکس و دیوید دیاموند\n",
      "ترجمه جادی\n",
      "حروف چینی نسخه لاتک: MXAmin\n",
      "\n"
     ]
    }
   ],
   "source": [
    "# Take a look at a random page of the document \n",
    "print(pdf_docs[0].page_content)"
   ]
  },
  {
   "cell_type": "markdown",
   "metadata": {},
   "source": [
    "\n",
    "<h3 dir=rtl align=right style=\"line-height:200%;font-family:vazir;color:#0099cc\">\n",
    "<font face=\"vazir\" color=\"#0099cc\">\n",
    "لینک وب\n",
    "</font>\n",
    "</h3>\n",
    "\n",
    "<p dir=rtl style=\"direction: rtl; text-align: justify; line-height:200%; font-family:vazir; font-size:medium\">\n",
    "<font face=\"vazir\">\n",
    "محتوای دیگری که قصد استفاده از آن را داریم کتاب «لینوکس و زندگی» از <a href=\"https://jadi.net/\" target=\"_blank\">جادی</a> است که به‌صورت آزاد در دسترس است. با این حال، این کتاب نسخه‌ی <code>PDF</code> نداشته و آن را مستقیماً از بستر وب می‌خوانیم. \n",
    "</font>\n",
    "</p>"
   ]
  },
  {
   "cell_type": "code",
   "execution_count": 47,
   "metadata": {},
   "outputs": [],
   "source": [
    "from langchain_community.document_loaders import WebBaseLoader\n",
    "\n",
    "web_loader = WebBaseLoader(\"https://linuxbook.ir/all.html\")\n",
    "web_docs = web_loader.load()"
   ]
  },
  {
   "cell_type": "code",
   "execution_count": 48,
   "metadata": {},
   "outputs": [
    {
     "name": "stdout",
     "output_type": "stream",
     "text": [
      "\n",
      "\n",
      "\n",
      "\n",
      "\n",
      "\n",
      "لینوکس و زندگی | لینوکس و زندگی\n",
      "\n",
      "\n",
      "\n",
      "\n",
      "\n",
      "\n",
      "\n",
      "\n",
      "\n",
      "\n",
      "Toggle navigation\n",
      "\n",
      "\n",
      "\n",
      "\n",
      "لینوکس و زندگی\n",
      "\n",
      "\n",
      "\n",
      "روی جلد\n",
      "درباره\n",
      "دانلود\n",
      "حمایت\n",
      "\n",
      "\n",
      "\n",
      "\n",
      "\n",
      "\n",
      "\n",
      "\n",
      "\n",
      "\n",
      "\n",
      "\n",
      "\n",
      "لینوکس و زندگی\n",
      "\n",
      "\n",
      "فهرست \n",
      "لینوکس و زندگی. نوشته جادی www.jadi.netبرای دسترسی به آخرین نسخه کتاب در فرمت‌های مختلف و همچنین حمایت مالی از پروژه کتاب‌هایی برای گیک‌ها، به سایت www.jadi.ir و بخش حمایت مراجعه کنید.درباره این کتاب \n",
      "این کتاب سعی می کنه به خواننده ایده‌هایی درمورد زندگی و لینوکس بده. چرا زندگی؟ چون لینوکس یک فلسفه است و براومده از یک جامعه و کسی که می خواد توش موفق باشه با\n"
     ]
    }
   ],
   "source": [
    "# Look at the first 512 characters of the page content\n",
    "print(web_docs[0].page_content[:512])"
   ]
  },
  {
   "cell_type": "markdown",
   "metadata": {},
   "source": [
    "<h3 dir=rtl align=right style=\"line-height:200%;font-family:vazir;color:#0099cc\">\n",
    "<font face=\"vazir\" color=\"#0099cc\">\n",
    "صفحه‌ی ویکی‌پدیا\n",
    "</font>\n",
    "</h3>\n",
    "\n",
    "<p dir=rtl style=\"direction: rtl; text-align: justify; line-height:200%; font-family:vazir; font-size:medium\">\n",
    "<font face=\"vazir\">\n",
    "علاوه‌بر محتواهایی که تاکنون در دسترس ما قرار گرفت قصد داریم از محتوای موجود در صفحات ویکی‌پدیای مرتبط با آن‌ها نیز استفاده کنیم. در لیست زیر عنوان چند صفحه‌ی ویکی‌پدیا قرار داده شده است.\n",
    "\n",
    "<ul dir=rtl>\n",
    "<li>ریچارد استالمن</li>\n",
    "<li>لینوس توروالدز</li>\n",
    "<li>لینوکس</li>\n",
    "<li>پروژه گنو</li>\n",
    "<li>نرم‌افزار آزاد</li>\n",
    "<li>بنیاد نرم‌افزار آزاد</li>\n",
    "</ul>\n",
    "</font>\n",
    "</p>"
   ]
  },
  {
   "cell_type": "code",
   "execution_count": null,
   "metadata": {},
   "outputs": [],
   "source": [
    "from langchain_community.document_loaders import WikipediaLoader\n",
    "import time\n",
    "\n",
    "wiki_titles = ['ریچارد استالمن', 'لینوس توروالدز', 'لینوکس', 'پروژه گنو', 'نرم‌افزار آزاد', 'بنیاد نرم‌افزار آزاد']\n",
    "\n",
    "# Function to load a Wikipedia page\n",
    "def load_wikipedia_page(title):\n",
    "    loader = WikipediaLoader(query=title, load_max_docs=1, lang='fa')\n",
    "    return loader.load()\n",
    "\n",
    "# List to hold the loaded documents\n",
    "wiki_docs = []\n",
    "\n",
    "# Load each Wikipedia page\n",
    "for title in wiki_titles:\n",
    "    doc = load_wikipedia_page(title)\n",
    "    time.sleep(5)\n",
    "    wiki_docs.extend(doc)  # Extend to avoid nested lists"
   ]
  },
  {
   "cell_type": "code",
   "execution_count": 52,
   "metadata": {},
   "outputs": [
    {
     "name": "stdout",
     "output_type": "stream",
     "text": [
      "Number of wikipedia pages (loaded Document objects): 6\n"
     ]
    }
   ],
   "source": [
    "print(\"Number of wikipedia pages (loaded Document objects):\", len(wiki_docs))"
   ]
  },
  {
   "cell_type": "markdown",
   "metadata": {},
   "source": [
    "<h3 dir=rtl align=right style=\"line-height:200%;font-family:vazir;color:#0099cc\">\n",
    "<font face=\"vazir\" color=\"#0099cc\">\n",
    "فایل <code>HTML</code>\n",
    "</font>\n",
    "</h3>\n",
    "\n",
    "<p dir=rtl style=\"direction: rtl; text-align: justify; line-height:200%; font-family:vazir; font-size:medium\">\n",
    "<font face=\"vazir\">\n",
    "حال از وب‌سایت خود آقای استالمن هم کمک می‌گیریم و محتوای آن را استخراج می کنیم. برای این کار لینک‌های داخلی وب‌سایت <a href=\"https://stallman.org\" target=\"_blank\"><code>https://stallman.org</code></a> را به‌کمک <i>Web Scraping</i> استخراج کرده‌ایم.\n",
    "</font>\n",
    "</p>"
   ]
  },
  {
   "cell_type": "code",
   "execution_count": null,
   "metadata": {},
   "outputs": [],
   "source": [
    "# The following code is used to download the HTML content of the Stallman website\n",
    "\n",
    "import requests\n",
    "from bs4 import BeautifulSoup\n",
    "from urllib.parse import urljoin, urlparse\n",
    "import os\n",
    "\n",
    "def save_html(url, directory):\n",
    "    response = requests.get(url)\n",
    "    # Create a valid filename from the URL\n",
    "    filename = urlparse(url).path.strip('/').replace('/', '_') or 'index'\n",
    "    filepath = os.path.join(directory, f\"{filename}\")\n",
    "    \n",
    "    # Save the HTML content to a file\n",
    "    with open(filepath, 'w', encoding='utf-8') as file:\n",
    "        file.write(response.text)\n",
    "    print(f\"Saved: {filepath}\")\n",
    "\n",
    "def is_internal_link(href):\n",
    "    # Parse the href to get its components\n",
    "    parsed_href = urlparse(href)\n",
    "    \n",
    "    # Check if the link is internal\n",
    "    return (\n",
    "        (not href.startswith('#')) and # Check it is not an identifier\n",
    "        (not href.startswith('tel:')) and # Check it is not a telephone number\n",
    "        (href.endswith('.html')) and # Check it is not xml\n",
    "        (parsed_href.netloc == \"\" or  # Empty netloc indicates a relative link\n",
    "        \"stallman.org\" in parsed_href.netloc)  # Netloc contains stallman.org\n",
    "    )\n",
    "\n",
    "def extract_links(url):\n",
    "    response = requests.get(url)\n",
    "    soup = BeautifulSoup(response.text, 'html.parser')\n",
    "    links = set()\n",
    "    for a_tag in soup.find_all('a', href=True):\n",
    "        href = a_tag['href']\n",
    "        if is_internal_link(href):\n",
    "            full_url = urljoin(url, href)  # Create a full URL\n",
    "            links.add(full_url)\n",
    "    return links\n",
    "\n",
    "url = \"https://stallman.org\"\n",
    "links = extract_links(url)\n",
    "directory = \"html\"\n",
    "os.makedirs(directory, exist_ok=True)\n",
    "\n",
    "# Save each link's HTML content\n",
    "for link in links:\n",
    "    save_html(link, directory)"
   ]
  },
  {
   "cell_type": "code",
   "execution_count": 53,
   "metadata": {},
   "outputs": [
    {
     "name": "stderr",
     "output_type": "stream",
     "text": [
      "c:\\Users\\Helia\\miniconda3\\envs\\quera\\Lib\\site-packages\\langchain_community\\document_loaders\\html_bs.py:51: XMLParsedAsHTMLWarning: It looks like you're parsing an XML document using an HTML parser. If this really is an HTML document (maybe it's XHTML?), you can ignore or filter this warning. If it's XML, you should know that using an XML parser will be more reliable. To parse this document as XML, make sure you have the lxml package installed, and pass the keyword argument `features=\"xml\"` into the BeautifulSoup constructor.\n",
      "  soup = BeautifulSoup(f, **self.bs_kwargs)\n"
     ]
    }
   ],
   "source": [
    "from langchain_community.document_loaders import DirectoryLoader\n",
    "from langchain_community.document_loaders import BSHTMLLoader\n",
    "\n",
    "loader = DirectoryLoader(\".\\data\\html\", loader_cls=BSHTMLLoader)\n",
    "\n",
    "html_docs = loader.load()"
   ]
  },
  {
   "cell_type": "code",
   "execution_count": 54,
   "metadata": {},
   "outputs": [
    {
     "name": "stdout",
     "output_type": "stream",
     "text": [
      "Number of pages (loaded Document objects): 179\n"
     ]
    }
   ],
   "source": [
    "print(\"Number of pages (loaded Document objects):\", len(html_docs))"
   ]
  },
  {
   "cell_type": "code",
   "execution_count": 55,
   "metadata": {},
   "outputs": [
    {
     "name": "stdout",
     "output_type": "stream",
     "text": [
      "\n",
      "\n",
      "Reasons not to use Airbnb\n",
      "\n",
      "\n",
      "\n",
      "\n",
      "\n",
      "Richard Stallman's personal site.\n",
      "https://stallman.org\n",
      "\n",
      "For current political commentary, see\n",
      "the daily\n",
      "political notes.\n",
      "\n",
      "\n",
      "RMS's Bio |\n",
      "The GNU Project\n",
      "\n",
      "\n",
      "\n",
      "\n",
      "What's bad about:\n",
      "Airbnb |\n",
      "Amazon |\n",
      "Amtrak |\n",
      "Ancestry |\n",
      "Apple |\n",
      "Change.org |\n",
      "ChatGPT |\n",
      "Cloudflare |\n",
      "Discord |\n",
      "Ebooks |\n",
      "Eventbrite |\n",
      "Evernote |\n",
      "Ex-Twitter |\n",
      "Facebook |\n",
      "FLIXbus |\n",
      "Frito-Lay |\n",
      "Frontier |\n",
      "Google |\n",
      "Gofundme |\n",
      "Grubhub |\n",
      "In-N-Out Burger |\n",
      "Intel |\n",
      "LinkedIn |\n",
      "Lyft |\n",
      "\n",
      "Meetup |\n",
      "Microsoft |\n",
      "Netflix |\n",
      "Patreon |\n",
      "Pay Toilets |\n",
      "Privatization |\n",
      "Skype |\n",
      "Slack |\n",
      "Spotify |\n",
      "Tesla |\n",
      "Threads |\n",
      "Ticketmaster |\n",
      "\n",
      "Uber |\n",
      "Wendy's |\n",
      "WhatsApp |\n",
      "Zoom |\n",
      "\n",
      "\n",
      "Reasons not to use Airbnb\n",
      "\n",
      "\n",
      "    Airbnb is destroying communities which many people like to visit, as\n",
      "many houses in them are now used as hotel rooms and there is not\n",
      "    much in the way of housing to rent for all year.\n",
      "  \n",
      "\n",
      "    Since you have to identify yourself, the\n",
      "    company can\n",
      "    ban you arbitrarily.\n",
      "  \n",
      "\n",
      "\n",
      "Airbnb requires you to run nonfree software (an app, or Javascript).\n",
      "It puts you in a data base easily available to Big Brother (just like a hotel).\n",
      "\n",
      "\n",
      "\n",
      "\n",
      "Even worse, it may reject you unless you have a Google, LinkedIn or Facebook account.\n",
      "And if it is a Facebook account, you have to be used the way Facebook wants\n",
      "you to be used,\n",
      "\n",
      "telling Facebook about lots of relationships.\n",
      "\n",
      "\n",
      "\n",
      "\n",
      "In May 2016,\n",
      "\n",
      "Airbnb inserted a mandatory arbitration requirement,\n",
      "requiring those offering housing to accept arbitration for any dispute\n",
      "with the company.\n",
      "\n",
      "\n",
      "\n",
      "\n",
      "  Airbnb\n",
      "  rents rooms in Israel's colonies in Palestinian territory.\n",
      "\n",
      "\n",
      "  Seizing land from the people of an occupied territory and settling\n",
      "  people from the occupying power there violates the Geneva Conventions.\n",
      "\n",
      "\n",
      "\n",
      "\n",
      "Airbnb was springing fees on customers after first providing a\n",
      "misleading low price to make the sale.\n",
      "\n",
      "\n",
      "Letting a company get off with just a warning for this encourages it\n",
      "and other companies to try again.  We need to treat this as a serious\n",
      "crime, swindling, not like stealing a base in baseball.\n",
      "\n",
      "\n",
      "Every company caught doing this should be fined the total amount of\n",
      "the fees collected through the deceptive practice in all transactions\n",
      "during the past 5 years.  A few fine bankruptcies will teach the other\n",
      "would-be cheaters to stop probing to see how much cheating they can\n",
      "get away with.\n",
      "\n",
      "\n",
      "\n",
      "\n",
      "Airbnb increases\n",
      "the price of houses — and the rent for a place to live.\n",
      "\n",
      "\n",
      "\n",
      "Some nasty things about Airbnb.  For instance, most airbnb rentals\n",
      "  belong to large companies that gobble up lots of houses that people\n",
      "  used to live in.\n",
      "This could be driving up your rent.\n",
      "\n",
      "\n",
      "\n",
      "\n",
      "Copyright (c) 2014, 2016, 2018, 2019 Richard Stallman\n",
      "Verbatim copying and redistribution of this entire page are\n",
      "permitted provided this notice is preserved.\n",
      "\n",
      "\n",
      "\n",
      "\n"
     ]
    }
   ],
   "source": [
    "print(html_docs[0].page_content)"
   ]
  },
  {
   "cell_type": "markdown",
   "metadata": {},
   "source": [
    "<h2 dir=rtl align=right style=\"line-height:200%;font-family:vazir;color:#0099cc\">\n",
    "<font face=\"vazir\" color=\"#0099cc\">\n",
    "جداسازی اسناد\n",
    "</font>\n",
    "</h2>\n",
    "\n",
    "<p dir=rtl style=\"direction: rtl; text-align: justify; line-height:200%; font-family:vazir; font-size:medium\">\n",
    "<font face=\"vazir\">\n",
    "باتوجه به طولانی بودن قطعات بهتر است آنها را به قسمت های کوچکتری تبدیل کنیم.\n",
    "</font>\n",
    "</p>"
   ]
  },
  {
   "cell_type": "code",
   "execution_count": 56,
   "metadata": {},
   "outputs": [],
   "source": [
    "from langchain_text_splitters import RecursiveCharacterTextSplitter\n",
    "\n",
    "recursive_splitter = RecursiveCharacterTextSplitter(\n",
    "    chunk_size=20000, chunk_overlap=0\n",
    ")\n",
    "\n",
    "splitted_docs = []\n",
    "\n",
    "for doc in pdf_docs:\n",
    "    splitted_docs.append(doc)\n",
    "for doc in web_docs:\n",
    "    splitted_docs.append(doc)\n",
    "for doc in wiki_docs:\n",
    "    splitted_docs.append(doc)\n",
    "for doc in html_docs:\n",
    "    splitted_docs.append(doc)\n",
    "\n",
    "splitted_docs = recursive_splitter.split_documents(splitted_docs)"
   ]
  },
  {
   "cell_type": "code",
   "execution_count": 57,
   "metadata": {},
   "outputs": [
    {
     "name": "stdout",
     "output_type": "stream",
     "text": [
      "The number of splitted documents: 449\n"
     ]
    }
   ],
   "source": [
    "print('The number of splitted documents:', len(splitted_docs))"
   ]
  },
  {
   "cell_type": "markdown",
   "metadata": {},
   "source": [
    "<h2 dir=rtl align=right style=\"line-height:200%;font-family:vazir;color:#0099cc\">\n",
    "<font face=\"vazir\" color=\"#0099cc\">\n",
    "تعبیه‌سازی و مخزن برداری\n",
    "</font>\n",
    "</h2>"
   ]
  },
  {
   "cell_type": "code",
   "execution_count": 58,
   "metadata": {},
   "outputs": [],
   "source": [
    "# Make a vectorstore and add the documents to it\n",
    "from langchain_huggingface import HuggingFaceEmbeddings\n",
    "from langchain.vectorstores import Chroma\n",
    "\n",
    "hf_embedding = HuggingFaceEmbeddings(model_name = 'paraphrase-multilingual-MiniLM-L12-v2')\n",
    "\n",
    "vector_store = Chroma.from_documents(\n",
    "    documents = splitted_docs, # The documents to embed\n",
    "    embedding = hf_embedding, # The embeddings to use\n",
    "    collection_name = \"librechat\", # The name of the collection\n",
    "    persist_directory = \"./collections\", # Where to save the collection\n",
    ")"
   ]
  },
  {
   "cell_type": "code",
   "execution_count": 59,
   "metadata": {},
   "outputs": [
    {
     "name": "stdout",
     "output_type": "stream",
     "text": [
      "The number of documents in the collection: 15311\n"
     ]
    }
   ],
   "source": [
    "print('The number of documents in the collection:', vector_store._collection.count())"
   ]
  },
  {
   "cell_type": "code",
   "execution_count": 60,
   "metadata": {},
   "outputs": [],
   "source": [
    "retriever = vector_store.as_retriever(search_kwargs={\"k\": 8})"
   ]
  },
  {
   "cell_type": "markdown",
   "metadata": {},
   "source": [
    "<h2 dir=rtl align=right style=\"line-height:200%;font-family:vazir;color:#0099cc\">\n",
    "<font face=\"vazir\" color=\"#0099cc\">\n",
    "مدل پرسش‌وپاسخ\n",
    "</font>\n",
    "</h2>"
   ]
  },
  {
   "cell_type": "code",
   "execution_count": 61,
   "metadata": {},
   "outputs": [],
   "source": [
    "import getpass\n",
    "import os\n",
    "\n",
    "os.environ[\"COHERE_API_KEY\"] = getpass.getpass()"
   ]
  },
  {
   "cell_type": "code",
   "execution_count": 110,
   "metadata": {},
   "outputs": [],
   "source": [
    "from langchain_cohere import ChatCohere\n",
    "from langchain_core.prompts import PromptTemplate\n",
    "from langchain.output_parsers.json import SimpleJsonOutputParser\n",
    "from langchain.retrievers.contextual_compression import ContextualCompressionRetriever\n",
    "from langchain_cohere import CohereRerank\n",
    "from langchain.schema import HumanMessage\n",
    "\n",
    "def create_answer(query):\n",
    "    \n",
    "    model = ChatCohere(model='command-r-plus', temprature=0.1)\n",
    "\n",
    "    parser = SimpleJsonOutputParser()\n",
    "\n",
    "    prompt = PromptTemplate(\n",
    "    template=(\n",
    "        \"متن زیر را بخوانید و به پرسش کاربر پاسخ دهید. \"\n",
    "        \"پاسخ شما باید حداکثر ۳ کلمه باشد. \"\n",
    "        \"به درخواست کاربر پاسخ دهید و یک شی JSON را با question_number و پاسخ برگردانید:\\n\"\n",
    "        \"{format_instructions}\\n\"\n",
    "        \"\\n\"\n",
    "        \"متن:\\n{context}\\n\"\n",
    "        \"پرسش:\\n{query}\"\n",
    "    ),\n",
    "    input_variables=[\"context\", \"query\"],\n",
    "    partial_variables={\"format_instructions\": parser.get_format_instructions()},\n",
    "    )\n",
    "    \n",
    "    compressor = CohereRerank(model=\"rerank-multilingual-v3.0\",\n",
    "                          top_n=1)\n",
    "\n",
    "    compression_retriever = ContextualCompressionRetriever(\n",
    "    base_compressor=compressor, base_retriever=retriever\n",
    "    )\n",
    "\n",
    "    compressed_docs = compression_retriever.invoke(query)\n",
    "\n",
    "    # Convert contents into one string\n",
    "    content =  \" \".join(doc.page_content for doc in compressed_docs)\n",
    "\n",
    "    formatted_prompt = prompt.format(context=content, query=query)\n",
    "\n",
    "    message = HumanMessage(content=formatted_prompt)\n",
    "\n",
    "    response = model([message])\n",
    "    parsed_response = parser.parse(response.content)\n",
    "\n",
    "    return parsed_response\n",
    "\n"
   ]
  },
  {
   "cell_type": "code",
   "execution_count": 63,
   "metadata": {},
   "outputs": [
    {
     "name": "stderr",
     "output_type": "stream",
     "text": [
      "C:\\Users\\Helia\\AppData\\Local\\Temp\\ipykernel_10356\\325305804.py:46: LangChainDeprecationWarning: The method `BaseChatModel.__call__` was deprecated in langchain-core 0.1.7 and will be removed in 1.0. Use invoke instead.\n",
      "  response = model([message])\n"
     ]
    },
    {
     "data": {
      "text/plain": [
       "{'question_number': 1, 'answer': 'ترنسمتا'}"
      ]
     },
     "execution_count": 63,
     "metadata": {},
     "output_type": "execute_result"
    }
   ],
   "source": [
    "query = \"پرسش ۱: توروالدز برای کار در چه موسسه‌ای دانشگاه هلسینکی را ترک گفت؟\"\n",
    "answer1 = create_answer(query)\n",
    "answer1"
   ]
  },
  {
   "cell_type": "code",
   "execution_count": 115,
   "metadata": {},
   "outputs": [
    {
     "data": {
      "text/plain": [
       "{'question_number': 2, 'answer': 'دانشگاه آزاد آمستردام'}"
      ]
     },
     "execution_count": 115,
     "metadata": {},
     "output_type": "execute_result"
    }
   ],
   "source": [
    "query = \"پرسش ۲: آندرو تاننباوم استاد کدام دانشگاه است؟\"\n",
    "answer2 = create_answer(query)\n",
    "answer2"
   ]
  },
  {
   "cell_type": "code",
   "execution_count": 107,
   "metadata": {},
   "outputs": [
    {
     "data": {
      "text/plain": [
       "{'question_number': 3, 'answer': '2'}"
      ]
     },
     "execution_count": 107,
     "metadata": {},
     "output_type": "execute_result"
    }
   ],
   "source": [
    "query = \"پرسش ۳: در سال ۲۰۰۶ چند درصد از هسته لینوکس توسط توروالدز نوشته شد؟\"\n",
    "answer3 = create_answer(query)\n",
    "answer3"
   ]
  },
  {
   "cell_type": "code",
   "execution_count": null,
   "metadata": {},
   "outputs": [
    {
     "data": {
      "text/plain": [
       "{'question_number': 4, 'answer': 'ریچارد استالمن'}"
      ]
     },
     "execution_count": 66,
     "metadata": {},
     "output_type": "execute_result"
    }
   ],
   "source": [
    "query = \"پرسش ۴: چه کسی بنیاد نرم‌افزارهای آزاد را بنا نهاد؟\"\n",
    "answer4 = create_answer(query)\n",
    "answer4"
   ]
  },
  {
   "cell_type": "code",
   "execution_count": null,
   "metadata": {},
   "outputs": [
    {
     "data": {
      "text/plain": [
       "{'question_number': 5, 'answer': ' وسچستر کانتی'}"
      ]
     },
     "execution_count": 86,
     "metadata": {},
     "output_type": "execute_result"
    }
   ],
   "source": [
    "query = \"پرسش ۵: ریچارد استالمن در ۲۱ سالگی در کدام شرکت کار می‌کرد؟\"\n",
    "answer5 = create_answer(query)\n",
    "answer5"
   ]
  },
  {
   "cell_type": "code",
   "execution_count": 68,
   "metadata": {},
   "outputs": [
    {
     "data": {
      "text/plain": [
       "{'question_number': 6, 'answer': 'لیسپ'}"
      ]
     },
     "execution_count": 68,
     "metadata": {},
     "output_type": "execute_result"
    }
   ],
   "source": [
    "query = \"پرسش ۶: یکی از مشهورترین پروژه‌هایی که در ابتدا پروژه‌ی آزاد و آکادمیک بود اما بعد وارد محیط بسته‌ی تجاری شد چه بود؟\"\n",
    "answer6 = create_answer(query)\n",
    "answer6"
   ]
  },
  {
   "cell_type": "code",
   "execution_count": 87,
   "metadata": {},
   "outputs": [
    {
     "data": {
      "text/plain": [
       "{'question_number': 7, 'answer': 'چین'}"
      ]
     },
     "execution_count": 87,
     "metadata": {},
     "output_type": "execute_result"
    }
   ],
   "source": [
    "query = \"پرسش 7: لینکدین در سانسور کردن حساب‌ها به درخواست چه کشوری مشهور است؟\"\n",
    "answer7 = create_answer(query)\n",
    "answer7"
   ]
  },
  {
   "cell_type": "code",
   "execution_count": 113,
   "metadata": {},
   "outputs": [
    {
     "data": {
      "text/plain": [
       "{'question_number': 8, 'answer': 'OpenStreetMap'}"
      ]
     },
     "execution_count": 113,
     "metadata": {},
     "output_type": "execute_result"
    }
   ],
   "source": [
    "query = \"پرسش ۸: ریچارد استالمن پیشنهاد می‌کند به‌جای گوگل مپ از چه سرویسی استفاده کنیم؟\"\n",
    "answer8 = create_answer(query)\n",
    "answer8"
   ]
  },
  {
   "cell_type": "code",
   "execution_count": 103,
   "metadata": {},
   "outputs": [
    {
     "data": {
      "text/plain": [
       "{'question_number': 9, 'answer': 'آزادی اجرا'}"
      ]
     },
     "execution_count": 103,
     "metadata": {},
     "output_type": "execute_result"
    }
   ],
   "source": [
    "query = \"پرسش ۹: آزادی صفرم در نرم‌افزار آزاد چه عنوانی دارد؟\"\n",
    "answer9 = create_answer(query)\n",
    "answer9"
   ]
  },
  {
   "cell_type": "code",
   "execution_count": 73,
   "metadata": {},
   "outputs": [
    {
     "data": {
      "text/plain": [
       "{'question_number': 10, 'answer': 'خیر'}"
      ]
     },
     "execution_count": 73,
     "metadata": {},
     "output_type": "execute_result"
    }
   ],
   "source": [
    "query = \"پرسش ۱۰: آیا یک نرم‌افزار آزاد لزوماً رایگان است (بله یا خیر)؟\"\n",
    "answer10 = create_answer(query)\n",
    "answer10"
   ]
  },
  {
   "cell_type": "code",
   "execution_count": 74,
   "metadata": {},
   "outputs": [
    {
     "data": {
      "text/plain": [
       "{'question_number': 11, 'answer': 'FHS'}"
      ]
     },
     "execution_count": 74,
     "metadata": {},
     "output_type": "execute_result"
    }
   ],
   "source": [
    "query = \"پرسش ۱۱: استاندارد ناظر بر فایل‌ها و دایرکتوری‌ها به‌اختصار چه نامیده می‌شود؟\"\n",
    "answer11 = create_answer(query)\n",
    "answer11"
   ]
  },
  {
   "cell_type": "code",
   "execution_count": null,
   "metadata": {},
   "outputs": [
    {
     "data": {
      "text/plain": [
       "{'question_number': 12, 'answer': 'پروجکشن بایاس'}"
      ]
     },
     "execution_count": 118,
     "metadata": {},
     "output_type": "execute_result"
    }
   ],
   "source": [
    "query = \"پرسش ۱۲: اگر امروز که از شنبه ورزش می‌کنم در واقع دچار چه بایاسی شده‌ایم؟\"\n",
    "answer12 = create_answer(query)\n",
    "answer12"
   ]
  },
  {
   "cell_type": "code",
   "execution_count": 116,
   "metadata": {},
   "outputs": [
    {
     "data": {
      "text/plain": [
       "{'question_number': 13, 'answer': 'برنامه\\u200cنویسی'}"
      ]
     },
     "execution_count": 116,
     "metadata": {},
     "output_type": "execute_result"
    }
   ],
   "source": [
    "query = \"پرسش ۱۳: دنبال یاد گرفتن کدوم یکی باشیم: برنامه‌نویسی یا دستور زبان یک زبان خاص؟\"\n",
    "answer13 = create_answer(query)\n",
    "answer13"
   ]
  },
  {
   "cell_type": "code",
   "execution_count": 120,
   "metadata": {},
   "outputs": [
    {
     "name": "stdout",
     "output_type": "stream",
     "text": [
      "answer1 : ترنسمتا\n",
      "answer2 : دانشگاه آزاد آمستردام\n",
      "answer3 : 2\n",
      "answer4 : ریچارد استالمن\n",
      "answer5 :  وسچستر کانتی\n",
      "answer6 : لیسپ\n",
      "answer7 : چین\n",
      "answer8 : OpenStreetMap\n",
      "answer9 : آزادی اجرا\n",
      "answer10 : خیر\n",
      "answer11 : FHS\n",
      "answer12 : پروجکشن بایاس\n",
      "answer13 : برنامه نویسی\n"
     ]
    }
   ],
   "source": [
    "# List of variable names\n",
    "variable_names = [f'answer{i}' for i in range(1, 14)]\n",
    "# Iterate through each variable name\n",
    "for var_name in variable_names: \n",
    "    # Dynamically access the variable \n",
    "    var = eval(var_name) \n",
    "    # Check if the answer contains \\u200c and replace it with a half-space\n",
    "    if '\\u200c' in var['answer']: var['answer'] = var['answer'].replace('\\u200c', ' ') \n",
    "    # Print the result \n",
    "    print(var_name, \":\", var['answer'])"
   ]
  }
 ],
 "metadata": {
  "kernelspec": {
   "display_name": "quera",
   "language": "python",
   "name": "python3"
  },
  "language_info": {
   "codemirror_mode": {
    "name": "ipython",
    "version": 3
   },
   "file_extension": ".py",
   "mimetype": "text/x-python",
   "name": "python",
   "nbconvert_exporter": "python",
   "pygments_lexer": "ipython3",
   "version": "3.11.11"
  }
 },
 "nbformat": 4,
 "nbformat_minor": 2
}
